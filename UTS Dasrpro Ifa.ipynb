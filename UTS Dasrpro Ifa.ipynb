{
 "cells": [
  {
   "cell_type": "code",
   "execution_count": 1,
   "metadata": {},
   "outputs": [
    {
     "name": "stdout",
     "output_type": "stream",
     "text": [
      "1, 3, 5, 7, 9, 11, 13, 15, 17, 19, 21\n"
     ]
    }
   ],
   "source": [
    "#SOAL 1\n",
    "input_angka= int(input(\"Masukkan Angka : \"))\n",
    "print(*range(1,input_angka,2), sep=\", \")"
   ]
  },
  {
   "cell_type": "code",
   "execution_count": 2,
   "metadata": {},
   "outputs": [
    {
     "name": "stdout",
     "output_type": "stream",
     "text": [
      "['Selamat', 'anda', 'berhasil', 'mengerjakan', 'soal', 'ini']\n"
     ]
    }
   ],
   "source": [
    "#SOAL 2\n",
    "list1 = ['Se', 'an', 'ber', 'menger', 'so', 'in']\n",
    "list2 = ['lamat', 'da', 'hasil', 'jakan', 'al', 'i']\n",
    "tampil = []\n",
    "for i in range(len(list1)):\n",
    "    tampil.append(list1[i] + list2[i])\n",
    "print(tampil)\n"
   ]
  },
  {
   "cell_type": "code",
   "execution_count": 3,
   "metadata": {},
   "outputs": [
    {
     "name": "stdout",
     "output_type": "stream",
     "text": [
      "Saya telah mengerjakan dan menyelesaikan semua soal ujian\n"
     ]
    }
   ],
   "source": [
    "#SOAL 3\n",
    "\n",
    "Tuple1 = (\"Hari ini saya sedang melaksanakan Ujian Daspro\")\n",
    "hasil = Tuple1.split()\n",
    "hasil[0] = \"Saya\"\n",
    "hasil[1] = \"telah\"\n",
    "hasil[2] = \"mengerjakan\"\n",
    "hasil[3] = \"dan\"\n",
    "hasil[4] = \"menyelesaikan\"\n",
    "hasil[5] = \"semua\"\n",
    "hasil[6] = \"soal\"\n",
    "hasil.append(\"ujian\")\n",
    "panggil_hasil = ' '.join(hasil)\n",
    "print(panggil_hasil)"
   ]
  },
  {
   "cell_type": "code",
   "execution_count": 4,
   "metadata": {},
   "outputs": [
    {
     "name": "stdout",
     "output_type": "stream",
     "text": [
      "Hasil Binner 3 adalah 0b11000 dengan nilai bolean True\n",
      "Hasil Binner 2 adalah 0b1000 dengan nilai bolean True\n"
     ]
    }
   ],
   "source": [
    "#SOAL 4\n",
    "\n",
    "nilai1 = 3\n",
    "nilai2 = 2\n",
    "operator1 = nilai1 << 3\n",
    "operator2 = nilai2 << 2\n",
    "hasil1 = bin(operator1)\n",
    "hasil2 = bin(operator2)\n",
    "hasil3 = bool(operator1)\n",
    "hasil4 = bool(operator2)\n",
    "print(f\"Hasil Binner {nilai1} adalah {hasil1} dengan nilai bolean {hasil3}\")\n",
    "print(f\"Hasil Binner {nilai2} adalah {hasil2} dengan nilai bolean {hasil4}\")"
   ]
  },
  {
   "cell_type": "code",
   "execution_count": 5,
   "metadata": {},
   "outputs": [
    {
     "name": "stdout",
     "output_type": "stream",
     "text": [
      "--------- Selamat Datang ---------\n",
      "Pilihan Konversi:\n",
      "1. Binner\n",
      "2. Oktal\n",
      "3. Desimal\n",
      "4. Hexdesimal\n",
      "5. Tampilkan Smua\n",
      "Konversi 2 Ke Biner = 0b10\n",
      "\n"
     ]
    }
   ],
   "source": [
    "#Soal 5\n",
    "\n",
    "print(\"--------- Selamat Datang ---------\")\n",
    "print('''Pilihan Konversi:\n",
    "1. Binner\n",
    "2. Oktal\n",
    "3. Desimal\n",
    "4. Hexdesimal\n",
    "5. Tampilkan Smua''')\n",
    "angka=int(input (\"Masukkan Pilihan 1/2/3/4/5: \"))\n",
    "angka1= int(input(\"Masukkan Angka yang ingin di konversi: \"))\n",
    "if angka == 1:\n",
    "    hasil = bin(angka1)\n",
    "    print(f\"Konversi {angka1} Ke Biner = {hasil}\\n\")\n",
    "elif angka == 2:\n",
    "    hasil = oct(angka1)\n",
    "    print(f\"Konversi {angka1} Ke Oktal = \",hasil)\n",
    "elif angka == 3:\n",
    "    hasil =int(angka1)\n",
    "    print(f\"Konversi {angka1} Ke Decimal = \",hasil)\n",
    "elif angka == 4:\n",
    "    hasil = hex(angka1)\n",
    "    print(f\"Konversi {angka1} Ke Hexadesimal = \",hasil)\n",
    "elif angka == 5:\n",
    "    hasil1 = oct(angka1)\n",
    "    hasil2= bin(angka1)\n",
    "    hasil3= int(angka1)\n",
    "    hasil4 = hex(angka1)\n",
    "    print(f'''\\nHasil:\n",
    "Konversi {angka1} Ke Binner = {hasil1}\n",
    "Konversi {angka1} Ke Oktal = {hasil2}\n",
    "Konversi {angka1} Ke Decimal = {hasil3}\n",
    "Konversi {angka1} Ke Hexadesimal = {hasil4}''')\n",
    "else:\n",
    "    print(f\"{angka1} adalah angka yang tidak ada dalam menu pilihan\")\n"
   ]
  },
  {
   "cell_type": "code",
   "execution_count": 7,
   "metadata": {},
   "outputs": [
    {
     "name": "stdout",
     "output_type": "stream",
     "text": [
      "\n",
      "*  \n",
      "*  *  \n",
      "*  *  *  \n",
      "*  *  *  *  \n",
      "*  *  *  *  *  \n",
      "*  *  *  *  \n",
      "*  *  *  \n",
      "*  *  \n",
      "*  \n"
     ]
    }
   ],
   "source": [
    "#SOAL 6\n",
    "\n",
    "print(\"\")\n",
    "def tampilkan_pola(des):\n",
    "    for i in range(1, des + 1):\n",
    "        for j in range(1, i + 1):\n",
    "            print(\"*\", end=\"  \")\n",
    "        print()\n",
    "    for i in range(des - 1, 0, -1):\n",
    "        for j in range(1, i + 1):\n",
    "            print(\"*\", end=\"  \")\n",
    "        print()\n",
    "        ()\n",
    "baris= 5\n",
    "tampilkan_pola(baris)\n",
    "\n"
   ]
  },
  {
   "cell_type": "code",
   "execution_count": 8,
   "metadata": {},
   "outputs": [
    {
     "name": "stdout",
     "output_type": "stream",
     "text": [
      "Nama            : Nurdalifa Marzuki\n",
      "Usia            : 18 Tahun\n",
      "Tinggi Badan    : 153.45 cm\n",
      "Berat Badan     : 46.5 Kg\n",
      "\n",
      "Terima Kasih Sudah Memasukkan Data Anda -----Nurdalifa Marzuki-----\n"
     ]
    }
   ],
   "source": [
    "#SOAL 7\n",
    "\n",
    "nama=input(\"Masukkan Nama Anda: \")\n",
    "umur=input(\"Masukkan Usia Anda: \")\n",
    "tinggi_badan=float(input(\"Masukkan Tinggi Badan Anda: \"))\n",
    "berat_badan =float(input(\"Masukkan Berat Badan Anda: \"))\n",
    "#Cetak HAsil\n",
    "print(f'''Nama            : {nama}\n",
    "Usia            : {umur} Tahun\n",
    "Tinggi Badan    : {tinggi_badan} cm\n",
    "Berat Badan     : {berat_badan} Kg\\n''')\n",
    "print(f\"Terima Kasih Sudah Memasukkan Data Anda -----{nama}-----\")"
   ]
  },
  {
   "cell_type": "code",
   "execution_count": 9,
   "metadata": {},
   "outputs": [
    {
     "name": "stdout",
     "output_type": "stream",
     "text": [
      "Number  : 10\n",
      "Number  : 7\n",
      "Number  : 20\n",
      "Number  : 50\n",
      "Number  : 49\n",
      "Number  : 22\n",
      "Number  : 44\n"
     ]
    }
   ],
   "source": [
    "#SOAL 8\n",
    "\n",
    "sri = [10, 7, 20, 50, 49, 22, 44]\n",
    "for nabil in sri:\n",
    "    print (f\"Number  : {nabil}\")"
   ]
  },
  {
   "cell_type": "code",
   "execution_count": 10,
   "metadata": {},
   "outputs": [
    {
     "name": "stdout",
     "output_type": "stream",
     "text": [
      "--------Selamat Datang Di Kalkulator--------\n",
      "\n",
      "Menu Pilihan :\n",
      "1. Penjumlahan\n",
      "2. Pengurangan\n",
      "3. Perkalian\n",
      "4. Pembagian\n",
      "5. Modulus\n",
      " Hasil Dari 6.0 - 7.0 = -1.0 \n"
     ]
    }
   ],
   "source": [
    "#SOAL 9\n",
    "\n",
    "print(\"--------Selamat Datang Di Kalkulator--------\\n\")\n",
    "angka1 = float(input(\"Masukkan Angka : \"))\n",
    "angka2 = float(input(\"Masukkan Angka : \"))\n",
    "print ('''Menu Pilihan :\n",
    "1. Penjumlahan\n",
    "2. Pengurangan\n",
    "3. Perkalian\n",
    "4. Pembagian\n",
    "5. Modulus''')\n",
    "\n",
    "pilihan= int(input (\"Masukkan Pilihan 1/2/3/4/5 : \"))\n",
    "\n",
    "if pilihan == 1:\n",
    "    hasil= (angka1 + angka2)\n",
    "    print(f\"Hasil Dari {angka1} + {angka2} = {hasil} \")\n",
    "\n",
    "elif pilihan == 2:\n",
    "    hasil= angka1 - angka2\n",
    "    print(f\" Hasil Dari {angka1} - {angka2} = {hasil} \")\n",
    "\n",
    "elif pilihan == 3:\n",
    "    hasil= angka1 * angka2\n",
    "    print(f\"Hasil Dari {angka1} x {angka2} = {hasil} \")\n",
    "\n",
    "elif pilihan == 4:\n",
    "    hasil= angka1 / angka2\n",
    "    print(f\"Hasil Dari {angka1} / {angka2} = {hasil} \")\n",
    "\n",
    "elif pilihan == 5:\n",
    "    hasil= angka1 % angka2\n",
    "    print(f\"Hasil Dari {angka1} % {angka2} = {hasil} \")\n",
    "    \n",
    "else:\n",
    "    print(\"Tidak Valid\")\n"
   ]
  },
  {
   "cell_type": "code",
   "execution_count": 11,
   "metadata": {},
   "outputs": [
    {
     "name": "stdout",
     "output_type": "stream",
     "text": [
      "Angka:  10\n",
      "Angka:  20\n",
      "Angka:  30\n",
      "Angka:  40\n",
      "Angka:  50\n",
      "Angka:  60\n"
     ]
    }
   ],
   "source": [
    "#Nomor 10\n",
    "\n",
    "def sorts(*f):\n",
    "    tokir = (f)\n",
    "    for saf in tokir:\n",
    "        print(\"Angka: \",saf)\n",
    "\n",
    "sorts(10, 20, 30)\n",
    "sorts(40, 50, 60)\n"
   ]
  }
 ],
 "metadata": {
  "kernelspec": {
   "display_name": "Python 3",
   "language": "python",
   "name": "python3"
  },
  "language_info": {
   "codemirror_mode": {
    "name": "ipython",
    "version": 3
   },
   "file_extension": ".py",
   "mimetype": "text/x-python",
   "name": "python",
   "nbconvert_exporter": "python",
   "pygments_lexer": "ipython3",
   "version": "3.12.3"
  }
 },
 "nbformat": 4,
 "nbformat_minor": 2
}
